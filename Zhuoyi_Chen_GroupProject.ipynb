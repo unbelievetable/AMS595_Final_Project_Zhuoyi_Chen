{
 "cells": [
  {
   "cell_type": "code",
   "execution_count": 1,
   "id": "b52bee4c",
   "metadata": {},
   "outputs": [
    {
     "name": "stdout",
     "output_type": "stream",
     "text": [
      "Visualizing Sample Data...\n"
     ]
    },
    {
     "data": {
      "image/png": "[encoded data removed]",
      "text/plain": [
       "<Figure size 1200x400 with 9 Axes>"
      ]
     },
     "metadata": {},
     "output_type": "display_data"
    }
   ],
   "source": [
    "import os\n",
    "import torch\n",
    "import torch.nn as nn\n",
    "import torch.optim as optim\n",
    "from torchvision import datasets, transforms\n",
    "import numpy as np\n",
    "import time\n",
    "from sklearn.decomposition import PCA\n",
    "import matplotlib.pyplot as plt\n",
    "\n",
    "# Load the MNIST Dataset\n",
    "\n",
    "data_dir = \"./data\"\n",
    "transform = transforms.Compose([\n",
    "    transforms.ToTensor(),\n",
    "    transforms.Normalize((0.5,), (0.5,))\n",
    "])\n",
    "\n",
    "train_dataset = datasets.MNIST(root=data_dir, train=True, transform=transform, download=False)\n",
    "test_dataset = datasets.MNIST(root=data_dir, train=False, transform=transform, download=False)\n",
    "\n",
    "# Convert datasets to loaders\n",
    "train_loader = torch.utils.data.DataLoader(train_dataset, batch_size=64, shuffle=True)\n",
    "test_loader = torch.utils.data.DataLoader(test_dataset, batch_size=64, shuffle=False)\n",
    "\n",
    "# Visualize sample data\n",
    "def visualize_samples(dataset, num_samples=9):\n",
    "    fig, axes = plt.subplots(1, num_samples, figsize=(12, 4))\n",
    "    for i, ax in enumerate(axes):\n",
    "        image, label = dataset[i]\n",
    "        ax.imshow(image.squeeze(), cmap=\"gray\")\n",
    "        ax.set_title(f\"Label: {label}\")\n",
    "        ax.axis(\"off\")\n",
    "    plt.show()\n",
    "\n",
    "print(\"Visualizing Sample Data...\")\n",
    "visualize_samples(train_dataset)"
   ]
  },
  {
   "cell_type": "code",
   "execution_count": 2,
   "id": "8863c41a",
   "metadata": {},
   "outputs": [],
   "source": [
    "# Flatten dataset to use with MLP\n",
    "def flatten_data(loader):\n",
    "    data, labels = [], []\n",
    "    for images, lbls in loader:\n",
    "        data.append(images.view(images.size(0), -1).numpy())\n",
    "        labels.append(lbls.numpy())\n",
    "    return np.vstack(data), np.hstack(labels)\n",
    "\n",
    "X_train, y_train = flatten_data(train_loader)\n",
    "X_test, y_test = flatten_data(test_loader)\n"
   ]
  },
  {
   "cell_type": "code",
   "execution_count": 3,
   "id": "e62b5ed7",
   "metadata": {},
   "outputs": [],
   "source": [
    "# Define the MLP Classifier\n",
    "class MLP(nn.Module):\n",
    "    def __init__(self, input_size, hidden_size, output_size):\n",
    "        super(MLP, self).__init__()\n",
    "        self.fc1 = nn.Linear(input_size, hidden_size)\n",
    "        self.relu = nn.ReLU()\n",
    "        self.fc2 = nn.Linear(hidden_size, output_size)\n",
    "\n",
    "    def forward(self, x):\n",
    "        x = self.fc1(x)\n",
    "        x = self.relu(x)\n",
    "        x = self.fc2(x)\n",
    "        return x\n",
    "    \n",
    "# should work with gpu but i dont have one\n",
    "device = torch.device(\"cuda\" if torch.cuda.is_available() else \"cpu\")\n",
    "\n",
    "# Helper function to train and evaluate the model\n",
    "def train_and_evaluate(model, train_loader, test_loader, num_epochs=5, learning_rate=0.001):\n",
    "    criterion = nn.CrossEntropyLoss()\n",
    "    optimizer = optim.Adam(model.parameters(), lr=learning_rate)\n",
    "\n",
    "    model.to(device)\n",
    "    \n",
    "    # Perform MLP\n",
    "    for epoch in range(num_epochs):\n",
    "        model.train()\n",
    "        running_loss = 0.0\n",
    "        for images, labels in train_loader:\n",
    "            images, labels = images.view(images.size(0), -1).to(device), labels.to(device)\n",
    "\n",
    "            optimizer.zero_grad()\n",
    "            outputs = model(images)\n",
    "            loss = criterion(outputs, labels)\n",
    "            loss.backward()\n",
    "            optimizer.step()\n",
    "\n",
    "            running_loss += loss.item()\n",
    "\n",
    "        print(f\"Epoch [{epoch + 1}/{num_epochs}], Loss: {running_loss / len(train_loader):.4f}\")\n",
    "\n",
    "    # Evaluate\n",
    "    model.eval()\n",
    "    correct = 0\n",
    "    total = 0\n",
    "    with torch.no_grad():\n",
    "        for images, labels in test_loader:\n",
    "            images, labels = images.view(images.size(0), -1).to(device), labels.to(device)\n",
    "            outputs = model(images)\n",
    "            _, predicted = torch.max(outputs, 1)\n",
    "            total += labels.size(0)\n",
    "            correct += (predicted == labels).sum().item()\n",
    "\n",
    "    accuracy = correct / total\n",
    "    print(f\"Accuracy: {accuracy:.4f}\")\n",
    "    return accuracy"
   ]
  },
  {
   "cell_type": "code",
   "execution_count": 4,
   "id": "bd81c824",
   "metadata": {},
   "outputs": [
    {
     "name": "stdout",
     "output_type": "stream",
     "text": [
      "Training MLP on Original Data...\n",
      "Epoch [1/5], Loss: 0.3893\n",
      "Epoch [2/5], Loss: 0.2037\n",
      "Epoch [3/5], Loss: 0.1436\n",
      "Epoch [4/5], Loss: 0.1162\n",
      "Epoch [5/5], Loss: 0.1002\n",
      "Accuracy: 0.9644\n"
     ]
    }
   ],
   "source": [
    "# Train and evaluate MLP on original data\n",
    "input_size = 28 * 28\n",
    "hidden_size = 128\n",
    "output_size = 10\n",
    "\n",
    "print(\"Training MLP on Original Data\")\n",
    "mlp_original = MLP(input_size, hidden_size, output_size)\n",
    "start_time_original = time.time()\n",
    "accuracy_original = train_and_evaluate(mlp_original, train_loader, test_loader)\n",
    "time_original = time.time() - start_time_original\n"
   ]
  },
  {
   "cell_type": "code",
   "execution_count": 5,
   "id": "20a6a805",
   "metadata": {},
   "outputs": [
    {
     "name": "stdout",
     "output_type": "stream",
     "text": [
      "Applying PCA to reduce dimensionality...\n",
      "Training MLP on PCA-Reduced Data...\n",
      "Epoch [1/5], Loss: 0.3618\n",
      "Epoch [2/5], Loss: 0.1344\n",
      "Epoch [3/5], Loss: 0.0935\n",
      "Epoch [4/5], Loss: 0.0734\n",
      "Epoch [5/5], Loss: 0.0606\n",
      "Accuracy: 0.9769\n"
     ]
    }
   ],
   "source": [
    "# Apply PCA using sklearn\n",
    "\n",
    "n_components = 50\n",
    "pca = PCA(n_components=n_components)\n",
    "X_train_pca = pca.fit_transform(X_train)\n",
    "X_test_pca = pca.transform(X_test)\n",
    "\n",
    "# Convert PCA data to PyTorch loaders\n",
    "train_pca_loader = torch.utils.data.DataLoader(\n",
    "    torch.utils.data.TensorDataset(torch.tensor(X_train_pca, dtype=torch.float32), torch.tensor(y_train)),\n",
    "    batch_size=64,\n",
    "    shuffle=True\n",
    ")\n",
    "\n",
    "test_pca_loader = torch.utils.data.DataLoader(\n",
    "    torch.utils.data.TensorDataset(torch.tensor(X_test_pca, dtype=torch.float32), torch.tensor(y_test)),\n",
    "    batch_size=64,\n",
    "    shuffle=False\n",
    ")\n",
    "\n",
    "# Train and evaluate MLP on PCA-reduced data\n",
    "print(\"Training MLP on PCA-Reduced Data\")\n",
    "mlp_pca = MLP(n_components, hidden_size, output_size)\n",
    "start_time_pca = time.time()\n",
    "accuracy_pca = train_and_evaluate(mlp_pca, train_pca_loader, test_pca_loader)\n",
    "time_pca = time.time() - start_time_pca"
   ]
  },
  {
   "cell_type": "code",
   "execution_count": 6,
   "id": "536a898a",
   "metadata": {},
   "outputs": [
    {
     "name": "stdout",
     "output_type": "stream",
     "text": [
      "\n",
      "Comparison of Results:\n",
      "Accuracy on Original Data: 0.9644\n",
      "Accuracy on PCA-Reduced Data: 0.9769\n",
      "Time taken on Original Data: 40.17 seconds\n",
      "Time taken on PCA-Reduced Data: 5.82 seconds\n"
     ]
    }
   ],
   "source": [
    "# Compare Results\n",
    "print(\"\\nComparison of Results:\")\n",
    "print(f\"Accuracy on Original Data: {accuracy_original:.4f}\")\n",
    "print(f\"Accuracy on PCA-Reduced Data: {accuracy_pca:.4f}\")\n",
    "print(f\"Time taken on Original Data: {time_original:.2f} seconds\")\n",
    "print(f\"Time taken on PCA-Reduced Data: {time_pca:.2f} seconds\")\n"
   ]
  }
 ],
 "metadata": {
  "kernelspec": {
   "display_name": "Python 3 (ipykernel)",
   "language": "python",
   "name": "python3"
  },
  "language_info": {
   "codemirror_mode": {
    "name": "ipython",
    "version": 3
   },
   "file_extension": ".py",
   "mimetype": "text/x-python",
   "name": "python",
   "nbconvert_exporter": "python",
   "pygments_lexer": "ipython3",
   "version": "3.9.13"
  }
 },
 "nbformat": 4,
 "nbformat_minor": 5
}
